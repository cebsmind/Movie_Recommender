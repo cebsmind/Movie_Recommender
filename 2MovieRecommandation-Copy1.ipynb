{
 "cells": [
  {
   "cell_type": "markdown",
   "id": "2330ede3-3452-4204-8840-92a680bda703",
   "metadata": {},
   "source": [
    "# PROJECT : Movie Recommandation System\n",
    "## Goal : \n",
    "- Create a Movie Recommendation System using content-based filtering. Content-based filtering uses item features to recommend other items similar to what the user likes, based on their previous actions or explicit feedback"
   ]
  },
  {
   "cell_type": "markdown",
   "id": "10fed74d-bdfb-41c2-ac73-951011535b2a",
   "metadata": {},
   "source": [
    "# 1. Data set Information"
   ]
  },
  {
   "cell_type": "markdown",
   "id": "cc211265-68e6-4baf-944b-b46491da2f47",
   "metadata": {},
   "source": [
    "- **movies_metadata.csv:** The main Movies Metadata file. Contains information on 45,000 movies featured in the Full MovieLens dataset. Features include posters, backdrops, budget, revenue, release dates, languages, production countries and companies.\n",
    "\n",
    "- **keywords.csv:** Contains the movie plot keywords for our MovieLens movies. Available in the form of a stringified JSON Object.\n",
    "\n",
    "- **credits.csv:** Consists of Cast and Crew Information for all our movies. Available in the form of a stringified JSON Object."
   ]
  },
  {
   "cell_type": "markdown",
   "id": "ba48f89b-1d88-45b5-8e3b-69fa090c47c7",
   "metadata": {},
   "source": [
    "## 1.0 Import Data sets"
   ]
  },
  {
   "cell_type": "code",
   "execution_count": 23,
   "id": "64fb6ce1-3339-4b13-8ce9-541592e96d68",
   "metadata": {
    "tags": []
   },
   "outputs": [],
   "source": [
    "import pandas as pd\n",
    "import seaborn as sns\n",
    "import warnings\n",
    "import numpy as np\n",
    "import matplotlib.pyplot as plt\n",
    "import ast\n",
    "\n",
    "# Ignorer tous les avertissements\n",
    "warnings.filterwarnings('ignore')"
   ]
  },
  {
   "cell_type": "code",
   "execution_count": 87,
   "id": "61d10b2e-25d8-4042-b076-3066cd53ee3f",
   "metadata": {
    "tags": []
   },
   "outputs": [],
   "source": [
    "# Load data\n",
    "movies_metadata = pd.read_csv('datasets\\movies_metadata.csv')\n",
    "keywords = pd.read_csv('datasets\\keywords.csv')\n",
    "credits = pd.read_csv('datasets\\credits.csv')"
   ]
  },
  {
   "cell_type": "markdown",
   "id": "4b9b4d4b-b586-4c73-a00f-c4008d684612",
   "metadata": {},
   "source": [
    "### Check Shape"
   ]
  },
  {
   "cell_type": "code",
   "execution_count": 88,
   "id": "10700ae5-125e-4868-89a8-2e6437f72dfd",
   "metadata": {
    "tags": []
   },
   "outputs": [
    {
     "name": "stdout",
     "output_type": "stream",
     "text": [
      "Meta data shape : (45466, 24)\n",
      "Keyword shape : (46419, 2)\n",
      "Credit shape : (45476, 3)\n"
     ]
    }
   ],
   "source": [
    "print(\"Meta data shape :\", movies_metadata.shape)\n",
    "print(\"Keyword shape :\", keywords.shape)\n",
    "print(\"Credit shape :\", credits.shape)"
   ]
  },
  {
   "cell_type": "markdown",
   "id": "a7fa5f80-1ce3-4b78-aa2c-d3b4c2d003cb",
   "metadata": {},
   "source": [
    "## 1.2 Overview of data sets"
   ]
  },
  {
   "cell_type": "code",
   "execution_count": 26,
   "id": "d78adb40-f223-4b98-a45e-0093383ae45c",
   "metadata": {
    "tags": []
   },
   "outputs": [
    {
     "data": {
      "text/html": [
       "<div>\n",
       "<style scoped>\n",
       "    .dataframe tbody tr th:only-of-type {\n",
       "        vertical-align: middle;\n",
       "    }\n",
       "\n",
       "    .dataframe tbody tr th {\n",
       "        vertical-align: top;\n",
       "    }\n",
       "\n",
       "    .dataframe thead th {\n",
       "        text-align: right;\n",
       "    }\n",
       "</style>\n",
       "<table border=\"1\" class=\"dataframe\">\n",
       "  <thead>\n",
       "    <tr style=\"text-align: right;\">\n",
       "      <th></th>\n",
       "      <th>adult</th>\n",
       "      <th>belongs_to_collection</th>\n",
       "      <th>budget</th>\n",
       "      <th>genres</th>\n",
       "      <th>homepage</th>\n",
       "      <th>id</th>\n",
       "      <th>imdb_id</th>\n",
       "      <th>original_language</th>\n",
       "      <th>original_title</th>\n",
       "      <th>overview</th>\n",
       "      <th>...</th>\n",
       "      <th>release_date</th>\n",
       "      <th>revenue</th>\n",
       "      <th>runtime</th>\n",
       "      <th>spoken_languages</th>\n",
       "      <th>status</th>\n",
       "      <th>tagline</th>\n",
       "      <th>title</th>\n",
       "      <th>video</th>\n",
       "      <th>vote_average</th>\n",
       "      <th>vote_count</th>\n",
       "    </tr>\n",
       "  </thead>\n",
       "  <tbody>\n",
       "    <tr>\n",
       "      <th>0</th>\n",
       "      <td>False</td>\n",
       "      <td>{'id': 10194, 'name': 'Toy Story Collection', ...</td>\n",
       "      <td>30000000</td>\n",
       "      <td>[{'id': 16, 'name': 'Animation'}, {'id': 35, '...</td>\n",
       "      <td>http://toystory.disney.com/toy-story</td>\n",
       "      <td>862</td>\n",
       "      <td>tt0114709</td>\n",
       "      <td>en</td>\n",
       "      <td>Toy Story</td>\n",
       "      <td>Led by Woody, Andy's toys live happily in his ...</td>\n",
       "      <td>...</td>\n",
       "      <td>1995-10-30</td>\n",
       "      <td>373554033.0</td>\n",
       "      <td>81.0</td>\n",
       "      <td>[{'iso_639_1': 'en', 'name': 'English'}]</td>\n",
       "      <td>Released</td>\n",
       "      <td>NaN</td>\n",
       "      <td>Toy Story</td>\n",
       "      <td>False</td>\n",
       "      <td>7.7</td>\n",
       "      <td>5415.0</td>\n",
       "    </tr>\n",
       "    <tr>\n",
       "      <th>1</th>\n",
       "      <td>False</td>\n",
       "      <td>NaN</td>\n",
       "      <td>65000000</td>\n",
       "      <td>[{'id': 12, 'name': 'Adventure'}, {'id': 14, '...</td>\n",
       "      <td>NaN</td>\n",
       "      <td>8844</td>\n",
       "      <td>tt0113497</td>\n",
       "      <td>en</td>\n",
       "      <td>Jumanji</td>\n",
       "      <td>When siblings Judy and Peter discover an encha...</td>\n",
       "      <td>...</td>\n",
       "      <td>1995-12-15</td>\n",
       "      <td>262797249.0</td>\n",
       "      <td>104.0</td>\n",
       "      <td>[{'iso_639_1': 'en', 'name': 'English'}, {'iso...</td>\n",
       "      <td>Released</td>\n",
       "      <td>Roll the dice and unleash the excitement!</td>\n",
       "      <td>Jumanji</td>\n",
       "      <td>False</td>\n",
       "      <td>6.9</td>\n",
       "      <td>2413.0</td>\n",
       "    </tr>\n",
       "    <tr>\n",
       "      <th>2</th>\n",
       "      <td>False</td>\n",
       "      <td>{'id': 119050, 'name': 'Grumpy Old Men Collect...</td>\n",
       "      <td>0</td>\n",
       "      <td>[{'id': 10749, 'name': 'Romance'}, {'id': 35, ...</td>\n",
       "      <td>NaN</td>\n",
       "      <td>15602</td>\n",
       "      <td>tt0113228</td>\n",
       "      <td>en</td>\n",
       "      <td>Grumpier Old Men</td>\n",
       "      <td>A family wedding reignites the ancient feud be...</td>\n",
       "      <td>...</td>\n",
       "      <td>1995-12-22</td>\n",
       "      <td>0.0</td>\n",
       "      <td>101.0</td>\n",
       "      <td>[{'iso_639_1': 'en', 'name': 'English'}]</td>\n",
       "      <td>Released</td>\n",
       "      <td>Still Yelling. Still Fighting. Still Ready for...</td>\n",
       "      <td>Grumpier Old Men</td>\n",
       "      <td>False</td>\n",
       "      <td>6.5</td>\n",
       "      <td>92.0</td>\n",
       "    </tr>\n",
       "    <tr>\n",
       "      <th>3</th>\n",
       "      <td>False</td>\n",
       "      <td>NaN</td>\n",
       "      <td>16000000</td>\n",
       "      <td>[{'id': 35, 'name': 'Comedy'}, {'id': 18, 'nam...</td>\n",
       "      <td>NaN</td>\n",
       "      <td>31357</td>\n",
       "      <td>tt0114885</td>\n",
       "      <td>en</td>\n",
       "      <td>Waiting to Exhale</td>\n",
       "      <td>Cheated on, mistreated and stepped on, the wom...</td>\n",
       "      <td>...</td>\n",
       "      <td>1995-12-22</td>\n",
       "      <td>81452156.0</td>\n",
       "      <td>127.0</td>\n",
       "      <td>[{'iso_639_1': 'en', 'name': 'English'}]</td>\n",
       "      <td>Released</td>\n",
       "      <td>Friends are the people who let you be yourself...</td>\n",
       "      <td>Waiting to Exhale</td>\n",
       "      <td>False</td>\n",
       "      <td>6.1</td>\n",
       "      <td>34.0</td>\n",
       "    </tr>\n",
       "    <tr>\n",
       "      <th>4</th>\n",
       "      <td>False</td>\n",
       "      <td>{'id': 96871, 'name': 'Father of the Bride Col...</td>\n",
       "      <td>0</td>\n",
       "      <td>[{'id': 35, 'name': 'Comedy'}]</td>\n",
       "      <td>NaN</td>\n",
       "      <td>11862</td>\n",
       "      <td>tt0113041</td>\n",
       "      <td>en</td>\n",
       "      <td>Father of the Bride Part II</td>\n",
       "      <td>Just when George Banks has recovered from his ...</td>\n",
       "      <td>...</td>\n",
       "      <td>1995-02-10</td>\n",
       "      <td>76578911.0</td>\n",
       "      <td>106.0</td>\n",
       "      <td>[{'iso_639_1': 'en', 'name': 'English'}]</td>\n",
       "      <td>Released</td>\n",
       "      <td>Just When His World Is Back To Normal... He's ...</td>\n",
       "      <td>Father of the Bride Part II</td>\n",
       "      <td>False</td>\n",
       "      <td>5.7</td>\n",
       "      <td>173.0</td>\n",
       "    </tr>\n",
       "  </tbody>\n",
       "</table>\n",
       "<p>5 rows × 24 columns</p>\n",
       "</div>"
      ],
      "text/plain": [
       "   adult                              belongs_to_collection    budget  \\\n",
       "0  False  {'id': 10194, 'name': 'Toy Story Collection', ...  30000000   \n",
       "1  False                                                NaN  65000000   \n",
       "2  False  {'id': 119050, 'name': 'Grumpy Old Men Collect...         0   \n",
       "3  False                                                NaN  16000000   \n",
       "4  False  {'id': 96871, 'name': 'Father of the Bride Col...         0   \n",
       "\n",
       "                                              genres  \\\n",
       "0  [{'id': 16, 'name': 'Animation'}, {'id': 35, '...   \n",
       "1  [{'id': 12, 'name': 'Adventure'}, {'id': 14, '...   \n",
       "2  [{'id': 10749, 'name': 'Romance'}, {'id': 35, ...   \n",
       "3  [{'id': 35, 'name': 'Comedy'}, {'id': 18, 'nam...   \n",
       "4                     [{'id': 35, 'name': 'Comedy'}]   \n",
       "\n",
       "                               homepage     id    imdb_id original_language  \\\n",
       "0  http://toystory.disney.com/toy-story    862  tt0114709                en   \n",
       "1                                   NaN   8844  tt0113497                en   \n",
       "2                                   NaN  15602  tt0113228                en   \n",
       "3                                   NaN  31357  tt0114885                en   \n",
       "4                                   NaN  11862  tt0113041                en   \n",
       "\n",
       "                original_title  \\\n",
       "0                    Toy Story   \n",
       "1                      Jumanji   \n",
       "2             Grumpier Old Men   \n",
       "3            Waiting to Exhale   \n",
       "4  Father of the Bride Part II   \n",
       "\n",
       "                                            overview  ... release_date  \\\n",
       "0  Led by Woody, Andy's toys live happily in his ...  ...   1995-10-30   \n",
       "1  When siblings Judy and Peter discover an encha...  ...   1995-12-15   \n",
       "2  A family wedding reignites the ancient feud be...  ...   1995-12-22   \n",
       "3  Cheated on, mistreated and stepped on, the wom...  ...   1995-12-22   \n",
       "4  Just when George Banks has recovered from his ...  ...   1995-02-10   \n",
       "\n",
       "       revenue runtime                                   spoken_languages  \\\n",
       "0  373554033.0    81.0           [{'iso_639_1': 'en', 'name': 'English'}]   \n",
       "1  262797249.0   104.0  [{'iso_639_1': 'en', 'name': 'English'}, {'iso...   \n",
       "2          0.0   101.0           [{'iso_639_1': 'en', 'name': 'English'}]   \n",
       "3   81452156.0   127.0           [{'iso_639_1': 'en', 'name': 'English'}]   \n",
       "4   76578911.0   106.0           [{'iso_639_1': 'en', 'name': 'English'}]   \n",
       "\n",
       "     status                                            tagline  \\\n",
       "0  Released                                                NaN   \n",
       "1  Released          Roll the dice and unleash the excitement!   \n",
       "2  Released  Still Yelling. Still Fighting. Still Ready for...   \n",
       "3  Released  Friends are the people who let you be yourself...   \n",
       "4  Released  Just When His World Is Back To Normal... He's ...   \n",
       "\n",
       "                         title  video vote_average vote_count  \n",
       "0                    Toy Story  False          7.7     5415.0  \n",
       "1                      Jumanji  False          6.9     2413.0  \n",
       "2             Grumpier Old Men  False          6.5       92.0  \n",
       "3            Waiting to Exhale  False          6.1       34.0  \n",
       "4  Father of the Bride Part II  False          5.7      173.0  \n",
       "\n",
       "[5 rows x 24 columns]"
      ]
     },
     "execution_count": 26,
     "metadata": {},
     "output_type": "execute_result"
    }
   ],
   "source": [
    "#data movie \n",
    "movies_metadata.head()"
   ]
  },
  {
   "cell_type": "code",
   "execution_count": 27,
   "id": "47ff7085-d965-4260-b090-2c60a182ab3e",
   "metadata": {
    "tags": []
   },
   "outputs": [
    {
     "data": {
      "text/html": [
       "<div>\n",
       "<style scoped>\n",
       "    .dataframe tbody tr th:only-of-type {\n",
       "        vertical-align: middle;\n",
       "    }\n",
       "\n",
       "    .dataframe tbody tr th {\n",
       "        vertical-align: top;\n",
       "    }\n",
       "\n",
       "    .dataframe thead th {\n",
       "        text-align: right;\n",
       "    }\n",
       "</style>\n",
       "<table border=\"1\" class=\"dataframe\">\n",
       "  <thead>\n",
       "    <tr style=\"text-align: right;\">\n",
       "      <th></th>\n",
       "      <th>id</th>\n",
       "      <th>keywords</th>\n",
       "    </tr>\n",
       "  </thead>\n",
       "  <tbody>\n",
       "    <tr>\n",
       "      <th>0</th>\n",
       "      <td>862</td>\n",
       "      <td>[{'id': 931, 'name': 'jealousy'}, {'id': 4290,...</td>\n",
       "    </tr>\n",
       "    <tr>\n",
       "      <th>1</th>\n",
       "      <td>8844</td>\n",
       "      <td>[{'id': 10090, 'name': 'board game'}, {'id': 1...</td>\n",
       "    </tr>\n",
       "    <tr>\n",
       "      <th>2</th>\n",
       "      <td>15602</td>\n",
       "      <td>[{'id': 1495, 'name': 'fishing'}, {'id': 12392...</td>\n",
       "    </tr>\n",
       "    <tr>\n",
       "      <th>3</th>\n",
       "      <td>31357</td>\n",
       "      <td>[{'id': 818, 'name': 'based on novel'}, {'id':...</td>\n",
       "    </tr>\n",
       "    <tr>\n",
       "      <th>4</th>\n",
       "      <td>11862</td>\n",
       "      <td>[{'id': 1009, 'name': 'baby'}, {'id': 1599, 'n...</td>\n",
       "    </tr>\n",
       "  </tbody>\n",
       "</table>\n",
       "</div>"
      ],
      "text/plain": [
       "      id                                           keywords\n",
       "0    862  [{'id': 931, 'name': 'jealousy'}, {'id': 4290,...\n",
       "1   8844  [{'id': 10090, 'name': 'board game'}, {'id': 1...\n",
       "2  15602  [{'id': 1495, 'name': 'fishing'}, {'id': 12392...\n",
       "3  31357  [{'id': 818, 'name': 'based on novel'}, {'id':...\n",
       "4  11862  [{'id': 1009, 'name': 'baby'}, {'id': 1599, 'n..."
      ]
     },
     "execution_count": 27,
     "metadata": {},
     "output_type": "execute_result"
    }
   ],
   "source": [
    "#keyword data\n",
    "keywords.head()"
   ]
  },
  {
   "cell_type": "code",
   "execution_count": 28,
   "id": "66d46961-377a-4ecb-ac57-8a2535596b37",
   "metadata": {
    "tags": []
   },
   "outputs": [
    {
     "data": {
      "text/html": [
       "<div>\n",
       "<style scoped>\n",
       "    .dataframe tbody tr th:only-of-type {\n",
       "        vertical-align: middle;\n",
       "    }\n",
       "\n",
       "    .dataframe tbody tr th {\n",
       "        vertical-align: top;\n",
       "    }\n",
       "\n",
       "    .dataframe thead th {\n",
       "        text-align: right;\n",
       "    }\n",
       "</style>\n",
       "<table border=\"1\" class=\"dataframe\">\n",
       "  <thead>\n",
       "    <tr style=\"text-align: right;\">\n",
       "      <th></th>\n",
       "      <th>cast</th>\n",
       "      <th>crew</th>\n",
       "      <th>id</th>\n",
       "    </tr>\n",
       "  </thead>\n",
       "  <tbody>\n",
       "    <tr>\n",
       "      <th>0</th>\n",
       "      <td>[{'cast_id': 14, 'character': 'Woody (voice)',...</td>\n",
       "      <td>[{'credit_id': '52fe4284c3a36847f8024f49', 'de...</td>\n",
       "      <td>862</td>\n",
       "    </tr>\n",
       "    <tr>\n",
       "      <th>1</th>\n",
       "      <td>[{'cast_id': 1, 'character': 'Alan Parrish', '...</td>\n",
       "      <td>[{'credit_id': '52fe44bfc3a36847f80a7cd1', 'de...</td>\n",
       "      <td>8844</td>\n",
       "    </tr>\n",
       "    <tr>\n",
       "      <th>2</th>\n",
       "      <td>[{'cast_id': 2, 'character': 'Max Goldman', 'c...</td>\n",
       "      <td>[{'credit_id': '52fe466a9251416c75077a89', 'de...</td>\n",
       "      <td>15602</td>\n",
       "    </tr>\n",
       "    <tr>\n",
       "      <th>3</th>\n",
       "      <td>[{'cast_id': 1, 'character': \"Savannah 'Vannah...</td>\n",
       "      <td>[{'credit_id': '52fe44779251416c91011acb', 'de...</td>\n",
       "      <td>31357</td>\n",
       "    </tr>\n",
       "    <tr>\n",
       "      <th>4</th>\n",
       "      <td>[{'cast_id': 1, 'character': 'George Banks', '...</td>\n",
       "      <td>[{'credit_id': '52fe44959251416c75039ed7', 'de...</td>\n",
       "      <td>11862</td>\n",
       "    </tr>\n",
       "  </tbody>\n",
       "</table>\n",
       "</div>"
      ],
      "text/plain": [
       "                                                cast  \\\n",
       "0  [{'cast_id': 14, 'character': 'Woody (voice)',...   \n",
       "1  [{'cast_id': 1, 'character': 'Alan Parrish', '...   \n",
       "2  [{'cast_id': 2, 'character': 'Max Goldman', 'c...   \n",
       "3  [{'cast_id': 1, 'character': \"Savannah 'Vannah...   \n",
       "4  [{'cast_id': 1, 'character': 'George Banks', '...   \n",
       "\n",
       "                                                crew     id  \n",
       "0  [{'credit_id': '52fe4284c3a36847f8024f49', 'de...    862  \n",
       "1  [{'credit_id': '52fe44bfc3a36847f80a7cd1', 'de...   8844  \n",
       "2  [{'credit_id': '52fe466a9251416c75077a89', 'de...  15602  \n",
       "3  [{'credit_id': '52fe44779251416c91011acb', 'de...  31357  \n",
       "4  [{'credit_id': '52fe44959251416c75039ed7', 'de...  11862  "
      ]
     },
     "execution_count": 28,
     "metadata": {},
     "output_type": "execute_result"
    }
   ],
   "source": [
    "#credits data\n",
    "credits.head()"
   ]
  },
  {
   "cell_type": "markdown",
   "id": "15baebb5-a572-4ef5-a34c-6cad54d30616",
   "metadata": {},
   "source": [
    "## 1.3 Merge 3 data sets into one"
   ]
  },
  {
   "cell_type": "code",
   "execution_count": 29,
   "id": "b700071f-e399-4048-b983-ffca4a0ecaf2",
   "metadata": {
    "tags": []
   },
   "outputs": [
    {
     "data": {
      "text/plain": [
       "dtype('float64')"
      ]
     },
     "execution_count": 29,
     "metadata": {},
     "output_type": "execute_result"
    }
   ],
   "source": [
    "#we need to convert 'id' from movie_metadata to numeric\n",
    "movies_metadata['id'] = pd.to_numeric(movies_metadata['id'], errors='coerce')\n",
    "movies_metadata.id.dtype"
   ]
  },
  {
   "cell_type": "code",
   "execution_count": 30,
   "id": "365a2c68-1e29-4a42-91f9-34d9d1f050af",
   "metadata": {
    "tags": []
   },
   "outputs": [],
   "source": [
    "# Merge dataframes based on movie ID\n",
    "movies = pd.merge(movies_metadata, keywords, on='id')\n",
    "movies = pd.merge(movies, credits, on='id')"
   ]
  },
  {
   "cell_type": "code",
   "execution_count": 31,
   "id": "d6814f83-bbaa-4028-8bb5-5a31f6826b20",
   "metadata": {
    "tags": []
   },
   "outputs": [
    {
     "data": {
      "text/html": [
       "<div>\n",
       "<style scoped>\n",
       "    .dataframe tbody tr th:only-of-type {\n",
       "        vertical-align: middle;\n",
       "    }\n",
       "\n",
       "    .dataframe tbody tr th {\n",
       "        vertical-align: top;\n",
       "    }\n",
       "\n",
       "    .dataframe thead th {\n",
       "        text-align: right;\n",
       "    }\n",
       "</style>\n",
       "<table border=\"1\" class=\"dataframe\">\n",
       "  <thead>\n",
       "    <tr style=\"text-align: right;\">\n",
       "      <th></th>\n",
       "      <th>adult</th>\n",
       "      <th>belongs_to_collection</th>\n",
       "      <th>budget</th>\n",
       "      <th>genres</th>\n",
       "      <th>homepage</th>\n",
       "      <th>id</th>\n",
       "      <th>imdb_id</th>\n",
       "      <th>original_language</th>\n",
       "      <th>original_title</th>\n",
       "      <th>overview</th>\n",
       "      <th>...</th>\n",
       "      <th>spoken_languages</th>\n",
       "      <th>status</th>\n",
       "      <th>tagline</th>\n",
       "      <th>title</th>\n",
       "      <th>video</th>\n",
       "      <th>vote_average</th>\n",
       "      <th>vote_count</th>\n",
       "      <th>keywords</th>\n",
       "      <th>cast</th>\n",
       "      <th>crew</th>\n",
       "    </tr>\n",
       "  </thead>\n",
       "  <tbody>\n",
       "    <tr>\n",
       "      <th>0</th>\n",
       "      <td>False</td>\n",
       "      <td>{'id': 10194, 'name': 'Toy Story Collection', ...</td>\n",
       "      <td>30000000</td>\n",
       "      <td>[{'id': 16, 'name': 'Animation'}, {'id': 35, '...</td>\n",
       "      <td>http://toystory.disney.com/toy-story</td>\n",
       "      <td>862.0</td>\n",
       "      <td>tt0114709</td>\n",
       "      <td>en</td>\n",
       "      <td>Toy Story</td>\n",
       "      <td>Led by Woody, Andy's toys live happily in his ...</td>\n",
       "      <td>...</td>\n",
       "      <td>[{'iso_639_1': 'en', 'name': 'English'}]</td>\n",
       "      <td>Released</td>\n",
       "      <td>NaN</td>\n",
       "      <td>Toy Story</td>\n",
       "      <td>False</td>\n",
       "      <td>7.7</td>\n",
       "      <td>5415.0</td>\n",
       "      <td>[{'id': 931, 'name': 'jealousy'}, {'id': 4290,...</td>\n",
       "      <td>[{'cast_id': 14, 'character': 'Woody (voice)',...</td>\n",
       "      <td>[{'credit_id': '52fe4284c3a36847f8024f49', 'de...</td>\n",
       "    </tr>\n",
       "    <tr>\n",
       "      <th>1</th>\n",
       "      <td>False</td>\n",
       "      <td>NaN</td>\n",
       "      <td>65000000</td>\n",
       "      <td>[{'id': 12, 'name': 'Adventure'}, {'id': 14, '...</td>\n",
       "      <td>NaN</td>\n",
       "      <td>8844.0</td>\n",
       "      <td>tt0113497</td>\n",
       "      <td>en</td>\n",
       "      <td>Jumanji</td>\n",
       "      <td>When siblings Judy and Peter discover an encha...</td>\n",
       "      <td>...</td>\n",
       "      <td>[{'iso_639_1': 'en', 'name': 'English'}, {'iso...</td>\n",
       "      <td>Released</td>\n",
       "      <td>Roll the dice and unleash the excitement!</td>\n",
       "      <td>Jumanji</td>\n",
       "      <td>False</td>\n",
       "      <td>6.9</td>\n",
       "      <td>2413.0</td>\n",
       "      <td>[{'id': 10090, 'name': 'board game'}, {'id': 1...</td>\n",
       "      <td>[{'cast_id': 1, 'character': 'Alan Parrish', '...</td>\n",
       "      <td>[{'credit_id': '52fe44bfc3a36847f80a7cd1', 'de...</td>\n",
       "    </tr>\n",
       "    <tr>\n",
       "      <th>2</th>\n",
       "      <td>False</td>\n",
       "      <td>{'id': 119050, 'name': 'Grumpy Old Men Collect...</td>\n",
       "      <td>0</td>\n",
       "      <td>[{'id': 10749, 'name': 'Romance'}, {'id': 35, ...</td>\n",
       "      <td>NaN</td>\n",
       "      <td>15602.0</td>\n",
       "      <td>tt0113228</td>\n",
       "      <td>en</td>\n",
       "      <td>Grumpier Old Men</td>\n",
       "      <td>A family wedding reignites the ancient feud be...</td>\n",
       "      <td>...</td>\n",
       "      <td>[{'iso_639_1': 'en', 'name': 'English'}]</td>\n",
       "      <td>Released</td>\n",
       "      <td>Still Yelling. Still Fighting. Still Ready for...</td>\n",
       "      <td>Grumpier Old Men</td>\n",
       "      <td>False</td>\n",
       "      <td>6.5</td>\n",
       "      <td>92.0</td>\n",
       "      <td>[{'id': 1495, 'name': 'fishing'}, {'id': 12392...</td>\n",
       "      <td>[{'cast_id': 2, 'character': 'Max Goldman', 'c...</td>\n",
       "      <td>[{'credit_id': '52fe466a9251416c75077a89', 'de...</td>\n",
       "    </tr>\n",
       "    <tr>\n",
       "      <th>3</th>\n",
       "      <td>False</td>\n",
       "      <td>NaN</td>\n",
       "      <td>16000000</td>\n",
       "      <td>[{'id': 35, 'name': 'Comedy'}, {'id': 18, 'nam...</td>\n",
       "      <td>NaN</td>\n",
       "      <td>31357.0</td>\n",
       "      <td>tt0114885</td>\n",
       "      <td>en</td>\n",
       "      <td>Waiting to Exhale</td>\n",
       "      <td>Cheated on, mistreated and stepped on, the wom...</td>\n",
       "      <td>...</td>\n",
       "      <td>[{'iso_639_1': 'en', 'name': 'English'}]</td>\n",
       "      <td>Released</td>\n",
       "      <td>Friends are the people who let you be yourself...</td>\n",
       "      <td>Waiting to Exhale</td>\n",
       "      <td>False</td>\n",
       "      <td>6.1</td>\n",
       "      <td>34.0</td>\n",
       "      <td>[{'id': 818, 'name': 'based on novel'}, {'id':...</td>\n",
       "      <td>[{'cast_id': 1, 'character': \"Savannah 'Vannah...</td>\n",
       "      <td>[{'credit_id': '52fe44779251416c91011acb', 'de...</td>\n",
       "    </tr>\n",
       "    <tr>\n",
       "      <th>4</th>\n",
       "      <td>False</td>\n",
       "      <td>{'id': 96871, 'name': 'Father of the Bride Col...</td>\n",
       "      <td>0</td>\n",
       "      <td>[{'id': 35, 'name': 'Comedy'}]</td>\n",
       "      <td>NaN</td>\n",
       "      <td>11862.0</td>\n",
       "      <td>tt0113041</td>\n",
       "      <td>en</td>\n",
       "      <td>Father of the Bride Part II</td>\n",
       "      <td>Just when George Banks has recovered from his ...</td>\n",
       "      <td>...</td>\n",
       "      <td>[{'iso_639_1': 'en', 'name': 'English'}]</td>\n",
       "      <td>Released</td>\n",
       "      <td>Just When His World Is Back To Normal... He's ...</td>\n",
       "      <td>Father of the Bride Part II</td>\n",
       "      <td>False</td>\n",
       "      <td>5.7</td>\n",
       "      <td>173.0</td>\n",
       "      <td>[{'id': 1009, 'name': 'baby'}, {'id': 1599, 'n...</td>\n",
       "      <td>[{'cast_id': 1, 'character': 'George Banks', '...</td>\n",
       "      <td>[{'credit_id': '52fe44959251416c75039ed7', 'de...</td>\n",
       "    </tr>\n",
       "  </tbody>\n",
       "</table>\n",
       "<p>5 rows × 27 columns</p>\n",
       "</div>"
      ],
      "text/plain": [
       "   adult                              belongs_to_collection    budget  \\\n",
       "0  False  {'id': 10194, 'name': 'Toy Story Collection', ...  30000000   \n",
       "1  False                                                NaN  65000000   \n",
       "2  False  {'id': 119050, 'name': 'Grumpy Old Men Collect...         0   \n",
       "3  False                                                NaN  16000000   \n",
       "4  False  {'id': 96871, 'name': 'Father of the Bride Col...         0   \n",
       "\n",
       "                                              genres  \\\n",
       "0  [{'id': 16, 'name': 'Animation'}, {'id': 35, '...   \n",
       "1  [{'id': 12, 'name': 'Adventure'}, {'id': 14, '...   \n",
       "2  [{'id': 10749, 'name': 'Romance'}, {'id': 35, ...   \n",
       "3  [{'id': 35, 'name': 'Comedy'}, {'id': 18, 'nam...   \n",
       "4                     [{'id': 35, 'name': 'Comedy'}]   \n",
       "\n",
       "                               homepage       id    imdb_id original_language  \\\n",
       "0  http://toystory.disney.com/toy-story    862.0  tt0114709                en   \n",
       "1                                   NaN   8844.0  tt0113497                en   \n",
       "2                                   NaN  15602.0  tt0113228                en   \n",
       "3                                   NaN  31357.0  tt0114885                en   \n",
       "4                                   NaN  11862.0  tt0113041                en   \n",
       "\n",
       "                original_title  \\\n",
       "0                    Toy Story   \n",
       "1                      Jumanji   \n",
       "2             Grumpier Old Men   \n",
       "3            Waiting to Exhale   \n",
       "4  Father of the Bride Part II   \n",
       "\n",
       "                                            overview  ...  \\\n",
       "0  Led by Woody, Andy's toys live happily in his ...  ...   \n",
       "1  When siblings Judy and Peter discover an encha...  ...   \n",
       "2  A family wedding reignites the ancient feud be...  ...   \n",
       "3  Cheated on, mistreated and stepped on, the wom...  ...   \n",
       "4  Just when George Banks has recovered from his ...  ...   \n",
       "\n",
       "                                    spoken_languages    status  \\\n",
       "0           [{'iso_639_1': 'en', 'name': 'English'}]  Released   \n",
       "1  [{'iso_639_1': 'en', 'name': 'English'}, {'iso...  Released   \n",
       "2           [{'iso_639_1': 'en', 'name': 'English'}]  Released   \n",
       "3           [{'iso_639_1': 'en', 'name': 'English'}]  Released   \n",
       "4           [{'iso_639_1': 'en', 'name': 'English'}]  Released   \n",
       "\n",
       "                                             tagline  \\\n",
       "0                                                NaN   \n",
       "1          Roll the dice and unleash the excitement!   \n",
       "2  Still Yelling. Still Fighting. Still Ready for...   \n",
       "3  Friends are the people who let you be yourself...   \n",
       "4  Just When His World Is Back To Normal... He's ...   \n",
       "\n",
       "                         title  video  vote_average  vote_count  \\\n",
       "0                    Toy Story  False           7.7      5415.0   \n",
       "1                      Jumanji  False           6.9      2413.0   \n",
       "2             Grumpier Old Men  False           6.5        92.0   \n",
       "3            Waiting to Exhale  False           6.1        34.0   \n",
       "4  Father of the Bride Part II  False           5.7       173.0   \n",
       "\n",
       "                                            keywords  \\\n",
       "0  [{'id': 931, 'name': 'jealousy'}, {'id': 4290,...   \n",
       "1  [{'id': 10090, 'name': 'board game'}, {'id': 1...   \n",
       "2  [{'id': 1495, 'name': 'fishing'}, {'id': 12392...   \n",
       "3  [{'id': 818, 'name': 'based on novel'}, {'id':...   \n",
       "4  [{'id': 1009, 'name': 'baby'}, {'id': 1599, 'n...   \n",
       "\n",
       "                                                cast  \\\n",
       "0  [{'cast_id': 14, 'character': 'Woody (voice)',...   \n",
       "1  [{'cast_id': 1, 'character': 'Alan Parrish', '...   \n",
       "2  [{'cast_id': 2, 'character': 'Max Goldman', 'c...   \n",
       "3  [{'cast_id': 1, 'character': \"Savannah 'Vannah...   \n",
       "4  [{'cast_id': 1, 'character': 'George Banks', '...   \n",
       "\n",
       "                                                crew  \n",
       "0  [{'credit_id': '52fe4284c3a36847f8024f49', 'de...  \n",
       "1  [{'credit_id': '52fe44bfc3a36847f80a7cd1', 'de...  \n",
       "2  [{'credit_id': '52fe466a9251416c75077a89', 'de...  \n",
       "3  [{'credit_id': '52fe44779251416c91011acb', 'de...  \n",
       "4  [{'credit_id': '52fe44959251416c75039ed7', 'de...  \n",
       "\n",
       "[5 rows x 27 columns]"
      ]
     },
     "execution_count": 31,
     "metadata": {},
     "output_type": "execute_result"
    }
   ],
   "source": [
    "#data merged overview\n",
    "movies.head()"
   ]
  },
  {
   "cell_type": "code",
   "execution_count": 32,
   "id": "91d48b7c-08e9-4d04-9333-be11567ebe62",
   "metadata": {
    "tags": []
   },
   "outputs": [
    {
     "name": "stdout",
     "output_type": "stream",
     "text": [
      "<class 'pandas.core.frame.DataFrame'>\n",
      "RangeIndex: 46628 entries, 0 to 46627\n",
      "Data columns (total 27 columns):\n",
      " #   Column                 Non-Null Count  Dtype  \n",
      "---  ------                 --------------  -----  \n",
      " 0   adult                  46628 non-null  object \n",
      " 1   belongs_to_collection  4574 non-null   object \n",
      " 2   budget                 46628 non-null  object \n",
      " 3   genres                 46628 non-null  object \n",
      " 4   homepage               8009 non-null   object \n",
      " 5   id                     46628 non-null  float64\n",
      " 6   imdb_id                46611 non-null  object \n",
      " 7   original_language      46617 non-null  object \n",
      " 8   original_title         46628 non-null  object \n",
      " 9   overview               45633 non-null  object \n",
      " 10  popularity             46624 non-null  object \n",
      " 11  poster_path            46229 non-null  object \n",
      " 12  production_companies   46624 non-null  object \n",
      " 13  production_countries   46624 non-null  object \n",
      " 14  release_date           46540 non-null  object \n",
      " 15  revenue                46624 non-null  float64\n",
      " 16  runtime                46360 non-null  float64\n",
      " 17  spoken_languages       46624 non-null  object \n",
      " 18  status                 46542 non-null  object \n",
      " 19  tagline                20783 non-null  object \n",
      " 20  title                  46624 non-null  object \n",
      " 21  video                  46624 non-null  object \n",
      " 22  vote_average           46624 non-null  float64\n",
      " 23  vote_count             46624 non-null  float64\n",
      " 24  keywords               46628 non-null  object \n",
      " 25  cast                   46628 non-null  object \n",
      " 26  crew                   46628 non-null  object \n",
      "dtypes: float64(5), object(22)\n",
      "memory usage: 9.6+ MB\n"
     ]
    }
   ],
   "source": [
    "#check basic info\n",
    "movies.info()"
   ]
  },
  {
   "cell_type": "code",
   "execution_count": 33,
   "id": "a94f3451-cb24-4272-bdd8-738d33a36e8d",
   "metadata": {
    "tags": []
   },
   "outputs": [
    {
     "data": {
      "text/html": [
       "<div>\n",
       "<style scoped>\n",
       "    .dataframe tbody tr th:only-of-type {\n",
       "        vertical-align: middle;\n",
       "    }\n",
       "\n",
       "    .dataframe tbody tr th {\n",
       "        vertical-align: top;\n",
       "    }\n",
       "\n",
       "    .dataframe thead th {\n",
       "        text-align: right;\n",
       "    }\n",
       "</style>\n",
       "<table border=\"1\" class=\"dataframe\">\n",
       "  <thead>\n",
       "    <tr style=\"text-align: right;\">\n",
       "      <th></th>\n",
       "      <th>id</th>\n",
       "      <th>revenue</th>\n",
       "      <th>runtime</th>\n",
       "      <th>vote_average</th>\n",
       "      <th>vote_count</th>\n",
       "    </tr>\n",
       "  </thead>\n",
       "  <tbody>\n",
       "    <tr>\n",
       "      <th>count</th>\n",
       "      <td>46628.000000</td>\n",
       "      <td>4.662400e+04</td>\n",
       "      <td>46360.000000</td>\n",
       "      <td>46624.000000</td>\n",
       "      <td>46624.000000</td>\n",
       "    </tr>\n",
       "    <tr>\n",
       "      <th>mean</th>\n",
       "      <td>109678.820837</td>\n",
       "      <td>1.102765e+07</td>\n",
       "      <td>94.086885</td>\n",
       "      <td>5.611728</td>\n",
       "      <td>108.169719</td>\n",
       "    </tr>\n",
       "    <tr>\n",
       "      <th>std</th>\n",
       "      <td>112908.126984</td>\n",
       "      <td>6.380526e+07</td>\n",
       "      <td>38.454015</td>\n",
       "      <td>1.932157</td>\n",
       "      <td>486.429314</td>\n",
       "    </tr>\n",
       "    <tr>\n",
       "      <th>min</th>\n",
       "      <td>2.000000</td>\n",
       "      <td>0.000000e+00</td>\n",
       "      <td>0.000000</td>\n",
       "      <td>0.000000</td>\n",
       "      <td>0.000000</td>\n",
       "    </tr>\n",
       "    <tr>\n",
       "      <th>25%</th>\n",
       "      <td>26760.250000</td>\n",
       "      <td>0.000000e+00</td>\n",
       "      <td>85.000000</td>\n",
       "      <td>5.000000</td>\n",
       "      <td>3.000000</td>\n",
       "    </tr>\n",
       "    <tr>\n",
       "      <th>50%</th>\n",
       "      <td>61299.000000</td>\n",
       "      <td>0.000000e+00</td>\n",
       "      <td>95.000000</td>\n",
       "      <td>6.000000</td>\n",
       "      <td>10.000000</td>\n",
       "    </tr>\n",
       "    <tr>\n",
       "      <th>75%</th>\n",
       "      <td>159624.000000</td>\n",
       "      <td>0.000000e+00</td>\n",
       "      <td>107.000000</td>\n",
       "      <td>6.800000</td>\n",
       "      <td>34.000000</td>\n",
       "    </tr>\n",
       "    <tr>\n",
       "      <th>max</th>\n",
       "      <td>469172.000000</td>\n",
       "      <td>2.787965e+09</td>\n",
       "      <td>1256.000000</td>\n",
       "      <td>10.000000</td>\n",
       "      <td>14075.000000</td>\n",
       "    </tr>\n",
       "  </tbody>\n",
       "</table>\n",
       "</div>"
      ],
      "text/plain": [
       "                  id       revenue       runtime  vote_average    vote_count\n",
       "count   46628.000000  4.662400e+04  46360.000000  46624.000000  46624.000000\n",
       "mean   109678.820837  1.102765e+07     94.086885      5.611728    108.169719\n",
       "std    112908.126984  6.380526e+07     38.454015      1.932157    486.429314\n",
       "min         2.000000  0.000000e+00      0.000000      0.000000      0.000000\n",
       "25%     26760.250000  0.000000e+00     85.000000      5.000000      3.000000\n",
       "50%     61299.000000  0.000000e+00     95.000000      6.000000     10.000000\n",
       "75%    159624.000000  0.000000e+00    107.000000      6.800000     34.000000\n",
       "max    469172.000000  2.787965e+09   1256.000000     10.000000  14075.000000"
      ]
     },
     "execution_count": 33,
     "metadata": {},
     "output_type": "execute_result"
    }
   ],
   "source": [
    "#num variable distribution\n",
    "movies.describe()"
   ]
  },
  {
   "cell_type": "markdown",
   "id": "9c1e56c4-c96f-43f4-934b-aef576da006c",
   "metadata": {},
   "source": [
    "# 2. PRE PROCESSING"
   ]
  },
  {
   "cell_type": "code",
   "execution_count": 34,
   "id": "0810e334-cb75-46af-93b7-2a430c7833fa",
   "metadata": {
    "tags": []
   },
   "outputs": [
    {
     "data": {
      "text/html": [
       "<div>\n",
       "<style scoped>\n",
       "    .dataframe tbody tr th:only-of-type {\n",
       "        vertical-align: middle;\n",
       "    }\n",
       "\n",
       "    .dataframe tbody tr th {\n",
       "        vertical-align: top;\n",
       "    }\n",
       "\n",
       "    .dataframe thead th {\n",
       "        text-align: right;\n",
       "    }\n",
       "</style>\n",
       "<table border=\"1\" class=\"dataframe\">\n",
       "  <thead>\n",
       "    <tr style=\"text-align: right;\">\n",
       "      <th></th>\n",
       "      <th>id</th>\n",
       "      <th>original_title</th>\n",
       "      <th>overview</th>\n",
       "      <th>genres</th>\n",
       "      <th>keywords</th>\n",
       "      <th>cast</th>\n",
       "      <th>crew</th>\n",
       "      <th>vote_average</th>\n",
       "      <th>popularity</th>\n",
       "    </tr>\n",
       "  </thead>\n",
       "  <tbody>\n",
       "    <tr>\n",
       "      <th>0</th>\n",
       "      <td>862.0</td>\n",
       "      <td>Toy Story</td>\n",
       "      <td>Led by Woody, Andy's toys live happily in his ...</td>\n",
       "      <td>[{'id': 16, 'name': 'Animation'}, {'id': 35, '...</td>\n",
       "      <td>[{'id': 931, 'name': 'jealousy'}, {'id': 4290,...</td>\n",
       "      <td>[{'cast_id': 14, 'character': 'Woody (voice)',...</td>\n",
       "      <td>[{'credit_id': '52fe4284c3a36847f8024f49', 'de...</td>\n",
       "      <td>7.7</td>\n",
       "      <td>21.946943</td>\n",
       "    </tr>\n",
       "    <tr>\n",
       "      <th>1</th>\n",
       "      <td>8844.0</td>\n",
       "      <td>Jumanji</td>\n",
       "      <td>When siblings Judy and Peter discover an encha...</td>\n",
       "      <td>[{'id': 12, 'name': 'Adventure'}, {'id': 14, '...</td>\n",
       "      <td>[{'id': 10090, 'name': 'board game'}, {'id': 1...</td>\n",
       "      <td>[{'cast_id': 1, 'character': 'Alan Parrish', '...</td>\n",
       "      <td>[{'credit_id': '52fe44bfc3a36847f80a7cd1', 'de...</td>\n",
       "      <td>6.9</td>\n",
       "      <td>17.015539</td>\n",
       "    </tr>\n",
       "    <tr>\n",
       "      <th>2</th>\n",
       "      <td>15602.0</td>\n",
       "      <td>Grumpier Old Men</td>\n",
       "      <td>A family wedding reignites the ancient feud be...</td>\n",
       "      <td>[{'id': 10749, 'name': 'Romance'}, {'id': 35, ...</td>\n",
       "      <td>[{'id': 1495, 'name': 'fishing'}, {'id': 12392...</td>\n",
       "      <td>[{'cast_id': 2, 'character': 'Max Goldman', 'c...</td>\n",
       "      <td>[{'credit_id': '52fe466a9251416c75077a89', 'de...</td>\n",
       "      <td>6.5</td>\n",
       "      <td>11.7129</td>\n",
       "    </tr>\n",
       "    <tr>\n",
       "      <th>3</th>\n",
       "      <td>31357.0</td>\n",
       "      <td>Waiting to Exhale</td>\n",
       "      <td>Cheated on, mistreated and stepped on, the wom...</td>\n",
       "      <td>[{'id': 35, 'name': 'Comedy'}, {'id': 18, 'nam...</td>\n",
       "      <td>[{'id': 818, 'name': 'based on novel'}, {'id':...</td>\n",
       "      <td>[{'cast_id': 1, 'character': \"Savannah 'Vannah...</td>\n",
       "      <td>[{'credit_id': '52fe44779251416c91011acb', 'de...</td>\n",
       "      <td>6.1</td>\n",
       "      <td>3.859495</td>\n",
       "    </tr>\n",
       "    <tr>\n",
       "      <th>4</th>\n",
       "      <td>11862.0</td>\n",
       "      <td>Father of the Bride Part II</td>\n",
       "      <td>Just when George Banks has recovered from his ...</td>\n",
       "      <td>[{'id': 35, 'name': 'Comedy'}]</td>\n",
       "      <td>[{'id': 1009, 'name': 'baby'}, {'id': 1599, 'n...</td>\n",
       "      <td>[{'cast_id': 1, 'character': 'George Banks', '...</td>\n",
       "      <td>[{'credit_id': '52fe44959251416c75039ed7', 'de...</td>\n",
       "      <td>5.7</td>\n",
       "      <td>8.387519</td>\n",
       "    </tr>\n",
       "  </tbody>\n",
       "</table>\n",
       "</div>"
      ],
      "text/plain": [
       "        id               original_title  \\\n",
       "0    862.0                    Toy Story   \n",
       "1   8844.0                      Jumanji   \n",
       "2  15602.0             Grumpier Old Men   \n",
       "3  31357.0            Waiting to Exhale   \n",
       "4  11862.0  Father of the Bride Part II   \n",
       "\n",
       "                                            overview  \\\n",
       "0  Led by Woody, Andy's toys live happily in his ...   \n",
       "1  When siblings Judy and Peter discover an encha...   \n",
       "2  A family wedding reignites the ancient feud be...   \n",
       "3  Cheated on, mistreated and stepped on, the wom...   \n",
       "4  Just when George Banks has recovered from his ...   \n",
       "\n",
       "                                              genres  \\\n",
       "0  [{'id': 16, 'name': 'Animation'}, {'id': 35, '...   \n",
       "1  [{'id': 12, 'name': 'Adventure'}, {'id': 14, '...   \n",
       "2  [{'id': 10749, 'name': 'Romance'}, {'id': 35, ...   \n",
       "3  [{'id': 35, 'name': 'Comedy'}, {'id': 18, 'nam...   \n",
       "4                     [{'id': 35, 'name': 'Comedy'}]   \n",
       "\n",
       "                                            keywords  \\\n",
       "0  [{'id': 931, 'name': 'jealousy'}, {'id': 4290,...   \n",
       "1  [{'id': 10090, 'name': 'board game'}, {'id': 1...   \n",
       "2  [{'id': 1495, 'name': 'fishing'}, {'id': 12392...   \n",
       "3  [{'id': 818, 'name': 'based on novel'}, {'id':...   \n",
       "4  [{'id': 1009, 'name': 'baby'}, {'id': 1599, 'n...   \n",
       "\n",
       "                                                cast  \\\n",
       "0  [{'cast_id': 14, 'character': 'Woody (voice)',...   \n",
       "1  [{'cast_id': 1, 'character': 'Alan Parrish', '...   \n",
       "2  [{'cast_id': 2, 'character': 'Max Goldman', 'c...   \n",
       "3  [{'cast_id': 1, 'character': \"Savannah 'Vannah...   \n",
       "4  [{'cast_id': 1, 'character': 'George Banks', '...   \n",
       "\n",
       "                                                crew  vote_average popularity  \n",
       "0  [{'credit_id': '52fe4284c3a36847f8024f49', 'de...           7.7  21.946943  \n",
       "1  [{'credit_id': '52fe44bfc3a36847f80a7cd1', 'de...           6.9  17.015539  \n",
       "2  [{'credit_id': '52fe466a9251416c75077a89', 'de...           6.5    11.7129  \n",
       "3  [{'credit_id': '52fe44779251416c91011acb', 'de...           6.1   3.859495  \n",
       "4  [{'credit_id': '52fe44959251416c75039ed7', 'de...           5.7   8.387519  "
      ]
     },
     "execution_count": 34,
     "metadata": {},
     "output_type": "execute_result"
    }
   ],
   "source": [
    "#drop useless column\n",
    "movies=movies[['id','original_title','overview','genres','keywords','cast','crew','vote_average','popularity']]\n",
    "movies.head()"
   ]
  },
  {
   "cell_type": "markdown",
   "id": "09d6148d-ffb1-4cf3-b118-98e97a6a13fa",
   "metadata": {},
   "source": [
    "## 2.1 Check missing values"
   ]
  },
  {
   "cell_type": "code",
   "execution_count": 35,
   "id": "f9ce888c-89ea-4ab9-aec7-4e76444157e7",
   "metadata": {
    "tags": []
   },
   "outputs": [
    {
     "name": "stdout",
     "output_type": "stream",
     "text": [
      "Missing value percentage by variable\n",
      "\n",
      "\n",
      "overview          2.133911\n",
      "vote_average      0.008579\n",
      "popularity        0.008579\n",
      "id                0.000000\n",
      "original_title    0.000000\n",
      "genres            0.000000\n",
      "keywords          0.000000\n",
      "cast              0.000000\n",
      "crew              0.000000\n",
      "dtype: float64\n"
     ]
    }
   ],
   "source": [
    "missing=100*(movies.isna().sum()/movies.shape[0]).sort_values(ascending=False)\n",
    "print(\"Missing value percentage by variable\")\n",
    "print(\"\\n\")\n",
    "print(missing)"
   ]
  },
  {
   "cell_type": "code",
   "execution_count": 36,
   "id": "9d13d6ce-da68-44aa-961e-82c6334f3ac8",
   "metadata": {},
   "outputs": [
    {
     "data": {
      "image/png": "[encoded data removed]",
      "text/plain": [
       "<Figure size 1000x600 with 1 Axes>"
      ]
     },
     "metadata": {},
     "output_type": "display_data"
    }
   ],
   "source": [
    "# Generate a heatmap of missing values\n",
    "plt.figure(figsize=(10, 6))\n",
    "sns.heatmap(movies.isnull(), cmap='viridis', cbar=False, yticklabels=False)\n",
    "\n",
    "plt.title('Missing Values Heatmap')\n",
    "plt.show()"
   ]
  },
  {
   "cell_type": "markdown",
   "id": "6b0bf1a0-85d4-4832-98ac-640d849b5321",
   "metadata": {},
   "source": [
    "## 2.2 Convert JSON variables to list"
   ]
  },
  {
   "cell_type": "code",
   "execution_count": 37,
   "id": "28e7d111-3dd6-4756-87a1-82174ce4065b",
   "metadata": {},
   "outputs": [],
   "source": [
    "# Convert stringified JSON to lists\n",
    "movies['genres'] = movies['genres'].apply(lambda x: ast.literal_eval(x) if pd.notnull(x) else [])\n",
    "movies['keywords'] = movies['keywords'].apply(lambda x: ast.literal_eval(x) if pd.notnull(x) else [])\n",
    "movies['crew'] = movies['crew'].apply(lambda x: ast.literal_eval(x) if pd.notnull(x) else [])\n",
    "movies['cast'] = movies['cast'].apply(lambda x: ast.literal_eval(x) if pd.notnull(x) else [])"
   ]
  },
  {
   "cell_type": "code",
   "execution_count": 38,
   "id": "edaef9f7-8f7f-41e7-a0ef-22631ffc8c64",
   "metadata": {},
   "outputs": [],
   "source": [
    "#transform to a list of words\n",
    "movies['genres'] = movies['genres'].apply(lambda x: [genre['name'] for genre in x] if x else [])\n",
    "movies['keywords'] = movies['keywords'].apply(lambda x: [keyword['name'] for keyword in x] if x else [])\n",
    "movies['crew'] = movies['crew'].apply(lambda x: [crew_member['name'] for crew_member in x] if x else [])\n",
    "movies['cast'] = movies['cast'].apply(lambda x: [cast_member['name'] for cast_member in x] if x else [])"
   ]
  },
  {
   "cell_type": "markdown",
   "id": "b3f1a7c2-f585-43ed-9ef4-57aae2be8d8b",
   "metadata": {},
   "source": [
    "### Convert missing 'overview' to an empty string"
   ]
  },
  {
   "cell_type": "code",
   "execution_count": 39,
   "id": "4b4f3661-2d44-4baa-813e-e36f00a1e3d2",
   "metadata": {
    "tags": []
   },
   "outputs": [],
   "source": [
    "# Convert missing 'overview' values to empty string\n",
    "movies['overview'].fillna('', inplace=True)\n",
    "\n",
    "# Split 'overview' into a list of words\n",
    "movies['overview'] = movies['overview'].apply(lambda x: x.split())"
   ]
  },
  {
   "cell_type": "markdown",
   "id": "69f03810-9d78-4ff0-b184-09170689a784",
   "metadata": {},
   "source": [
    "- Convert popularity to numeric\n",
    "- imput missing value with the mean for both popularity and vote_average"
   ]
  },
  {
   "cell_type": "code",
   "execution_count": 40,
   "id": "59538d4b-f899-4e76-96cc-581c8c79bc04",
   "metadata": {
    "tags": []
   },
   "outputs": [],
   "source": [
    "#convert popularity to numeric\n",
    "movies['popularity'] = movies['popularity'].replace(',', '', regex=True)\n",
    "movies['popularity'] = pd.to_numeric(movies['popularity'], errors='coerce')"
   ]
  },
  {
   "cell_type": "code",
   "execution_count": 41,
   "id": "ea4f6262-6409-400b-b1d8-143c9cec313b",
   "metadata": {
    "tags": []
   },
   "outputs": [],
   "source": [
    "# Calculer la moyenne pour 'popularity' et 'vote_average'\n",
    "popularity_mean = movies['popularity'].mean()\n",
    "vote_average_mean = movies['vote_average'].mean()"
   ]
  },
  {
   "cell_type": "code",
   "execution_count": 42,
   "id": "472d7fd2-d91e-48e3-8550-81060382415f",
   "metadata": {
    "tags": []
   },
   "outputs": [],
   "source": [
    "# Remplacer les valeurs manquantes par la moyenne respective\n",
    "movies['popularity'].fillna(popularity_mean, inplace=True)\n",
    "movies['vote_average'].fillna(vote_average_mean, inplace=True)"
   ]
  },
  {
   "cell_type": "code",
   "execution_count": 43,
   "id": "822035af-91df-49e6-b3b7-d788022dc6c7",
   "metadata": {
    "tags": []
   },
   "outputs": [
    {
     "data": {
      "text/html": [
       "<div>\n",
       "<style scoped>\n",
       "    .dataframe tbody tr th:only-of-type {\n",
       "        vertical-align: middle;\n",
       "    }\n",
       "\n",
       "    .dataframe tbody tr th {\n",
       "        vertical-align: top;\n",
       "    }\n",
       "\n",
       "    .dataframe thead th {\n",
       "        text-align: right;\n",
       "    }\n",
       "</style>\n",
       "<table border=\"1\" class=\"dataframe\">\n",
       "  <thead>\n",
       "    <tr style=\"text-align: right;\">\n",
       "      <th></th>\n",
       "      <th>id</th>\n",
       "      <th>original_title</th>\n",
       "      <th>overview</th>\n",
       "      <th>genres</th>\n",
       "      <th>keywords</th>\n",
       "      <th>cast</th>\n",
       "      <th>crew</th>\n",
       "      <th>vote_average</th>\n",
       "      <th>popularity</th>\n",
       "    </tr>\n",
       "  </thead>\n",
       "  <tbody>\n",
       "    <tr>\n",
       "      <th>0</th>\n",
       "      <td>862.0</td>\n",
       "      <td>Toy Story</td>\n",
       "      <td>[Led, by, Woody,, Andy's, toys, live, happily,...</td>\n",
       "      <td>[Animation, Comedy, Family]</td>\n",
       "      <td>[jealousy, toy, boy, friendship, friends, riva...</td>\n",
       "      <td>[Tom Hanks, Tim Allen, Don Rickles, Jim Varney...</td>\n",
       "      <td>[John Lasseter, Joss Whedon, Andrew Stanton, J...</td>\n",
       "      <td>7.7</td>\n",
       "      <td>21.946943</td>\n",
       "    </tr>\n",
       "    <tr>\n",
       "      <th>1</th>\n",
       "      <td>8844.0</td>\n",
       "      <td>Jumanji</td>\n",
       "      <td>[When, siblings, Judy, and, Peter, discover, a...</td>\n",
       "      <td>[Adventure, Fantasy, Family]</td>\n",
       "      <td>[board game, disappearance, based on children'...</td>\n",
       "      <td>[Robin Williams, Jonathan Hyde, Kirsten Dunst,...</td>\n",
       "      <td>[Larry J. Franco, Jonathan Hensleigh, James Ho...</td>\n",
       "      <td>6.9</td>\n",
       "      <td>17.015539</td>\n",
       "    </tr>\n",
       "    <tr>\n",
       "      <th>2</th>\n",
       "      <td>15602.0</td>\n",
       "      <td>Grumpier Old Men</td>\n",
       "      <td>[A, family, wedding, reignites, the, ancient, ...</td>\n",
       "      <td>[Romance, Comedy]</td>\n",
       "      <td>[fishing, best friend, duringcreditsstinger, o...</td>\n",
       "      <td>[Walter Matthau, Jack Lemmon, Ann-Margret, Sop...</td>\n",
       "      <td>[Howard Deutch, Mark Steven Johnson, Mark Stev...</td>\n",
       "      <td>6.5</td>\n",
       "      <td>11.712900</td>\n",
       "    </tr>\n",
       "    <tr>\n",
       "      <th>3</th>\n",
       "      <td>31357.0</td>\n",
       "      <td>Waiting to Exhale</td>\n",
       "      <td>[Cheated, on,, mistreated, and, stepped, on,, ...</td>\n",
       "      <td>[Comedy, Drama, Romance]</td>\n",
       "      <td>[based on novel, interracial relationship, sin...</td>\n",
       "      <td>[Whitney Houston, Angela Bassett, Loretta Devi...</td>\n",
       "      <td>[Forest Whitaker, Ronald Bass, Ronald Bass, Ez...</td>\n",
       "      <td>6.1</td>\n",
       "      <td>3.859495</td>\n",
       "    </tr>\n",
       "    <tr>\n",
       "      <th>4</th>\n",
       "      <td>11862.0</td>\n",
       "      <td>Father of the Bride Part II</td>\n",
       "      <td>[Just, when, George, Banks, has, recovered, fr...</td>\n",
       "      <td>[Comedy]</td>\n",
       "      <td>[baby, midlife crisis, confidence, aging, daug...</td>\n",
       "      <td>[Steve Martin, Diane Keaton, Martin Short, Kim...</td>\n",
       "      <td>[Alan Silvestri, Elliot Davis, Nancy Meyers, N...</td>\n",
       "      <td>5.7</td>\n",
       "      <td>8.387519</td>\n",
       "    </tr>\n",
       "  </tbody>\n",
       "</table>\n",
       "</div>"
      ],
      "text/plain": [
       "        id               original_title  \\\n",
       "0    862.0                    Toy Story   \n",
       "1   8844.0                      Jumanji   \n",
       "2  15602.0             Grumpier Old Men   \n",
       "3  31357.0            Waiting to Exhale   \n",
       "4  11862.0  Father of the Bride Part II   \n",
       "\n",
       "                                            overview  \\\n",
       "0  [Led, by, Woody,, Andy's, toys, live, happily,...   \n",
       "1  [When, siblings, Judy, and, Peter, discover, a...   \n",
       "2  [A, family, wedding, reignites, the, ancient, ...   \n",
       "3  [Cheated, on,, mistreated, and, stepped, on,, ...   \n",
       "4  [Just, when, George, Banks, has, recovered, fr...   \n",
       "\n",
       "                         genres  \\\n",
       "0   [Animation, Comedy, Family]   \n",
       "1  [Adventure, Fantasy, Family]   \n",
       "2             [Romance, Comedy]   \n",
       "3      [Comedy, Drama, Romance]   \n",
       "4                      [Comedy]   \n",
       "\n",
       "                                            keywords  \\\n",
       "0  [jealousy, toy, boy, friendship, friends, riva...   \n",
       "1  [board game, disappearance, based on children'...   \n",
       "2  [fishing, best friend, duringcreditsstinger, o...   \n",
       "3  [based on novel, interracial relationship, sin...   \n",
       "4  [baby, midlife crisis, confidence, aging, daug...   \n",
       "\n",
       "                                                cast  \\\n",
       "0  [Tom Hanks, Tim Allen, Don Rickles, Jim Varney...   \n",
       "1  [Robin Williams, Jonathan Hyde, Kirsten Dunst,...   \n",
       "2  [Walter Matthau, Jack Lemmon, Ann-Margret, Sop...   \n",
       "3  [Whitney Houston, Angela Bassett, Loretta Devi...   \n",
       "4  [Steve Martin, Diane Keaton, Martin Short, Kim...   \n",
       "\n",
       "                                                crew  vote_average  popularity  \n",
       "0  [John Lasseter, Joss Whedon, Andrew Stanton, J...           7.7   21.946943  \n",
       "1  [Larry J. Franco, Jonathan Hensleigh, James Ho...           6.9   17.015539  \n",
       "2  [Howard Deutch, Mark Steven Johnson, Mark Stev...           6.5   11.712900  \n",
       "3  [Forest Whitaker, Ronald Bass, Ronald Bass, Ez...           6.1    3.859495  \n",
       "4  [Alan Silvestri, Elliot Davis, Nancy Meyers, N...           5.7    8.387519  "
      ]
     },
     "execution_count": 43,
     "metadata": {},
     "output_type": "execute_result"
    }
   ],
   "source": [
    "# Display a few rows to check the changes\n",
    "movies.head()"
   ]
  },
  {
   "cell_type": "markdown",
   "id": "da777b68-e8e6-4007-85bd-f2f6baf8f727",
   "metadata": {},
   "source": [
    "### 2.4 Define a function to remove spaces between names for \"crew\" and \"cast\""
   ]
  },
  {
   "cell_type": "code",
   "execution_count": 44,
   "id": "5ca0ea9a-859e-4686-a0c5-4624aab8a367",
   "metadata": {
    "tags": []
   },
   "outputs": [],
   "source": [
    "# Define a function to remove spaces between names in a list\n",
    "def remove_spaces(names_list):\n",
    "    return [''.join(person.split()) for person in names_list]"
   ]
  },
  {
   "cell_type": "code",
   "execution_count": 45,
   "id": "6dc65008-11f2-4a4c-8489-38ca698f4d29",
   "metadata": {
    "tags": []
   },
   "outputs": [],
   "source": [
    "# Apply the function to the 'crew' variable\n",
    "movies['crew'] = movies['crew'].apply(remove_spaces)\n",
    "movies['cast'] = movies['cast'].apply(remove_spaces)"
   ]
  },
  {
   "cell_type": "code",
   "execution_count": 50,
   "id": "5a303d7b-9a4f-4be1-871a-cfa06a153482",
   "metadata": {
    "tags": []
   },
   "outputs": [
    {
     "name": "stdout",
     "output_type": "stream",
     "text": [
      "0    [JohnLasseter, JossWhedon, AndrewStanton, Joel...\n",
      "1    [LarryJ.Franco, JonathanHensleigh, JamesHorner...\n",
      "2    [HowardDeutch, MarkStevenJohnson, MarkStevenJo...\n",
      "3    [ForestWhitaker, RonaldBass, RonaldBass, EzraS...\n",
      "Name: crew, dtype: object\n",
      "\n",
      "\n",
      "0    [TomHanks, TimAllen, DonRickles, JimVarney, Wa...\n",
      "1    [RobinWilliams, JonathanHyde, KirstenDunst, Br...\n",
      "2    [WalterMatthau, JackLemmon, Ann-Margret, Sophi...\n",
      "3    [WhitneyHouston, AngelaBassett, LorettaDevine,...\n",
      "Name: cast, dtype: object\n"
     ]
    }
   ],
   "source": [
    "#check some output\n",
    "print(movies['crew'][0:4])\n",
    "print(\"\\n\")\n",
    "print(movies['cast'][0:4])"
   ]
  },
  {
   "cell_type": "markdown",
   "id": "f9ab60b0-39d2-4f65-b70c-f3809673123e",
   "metadata": {},
   "source": [
    "## 2.5 Combine all meaning full variables (categorical) into one : tags"
   ]
  },
  {
   "cell_type": "code",
   "execution_count": 51,
   "id": "c2c7289d-dfd7-4a8b-877f-3e99790149af",
   "metadata": {
    "tags": []
   },
   "outputs": [],
   "source": [
    "# Combine relevant features into a new variable\n",
    "movies['tags'] = movies['overview'] + movies['genres'] + movies['keywords'] + movies['cast'] + movies['crew']"
   ]
  },
  {
   "cell_type": "code",
   "execution_count": 52,
   "id": "f7e1a550-14f4-478b-bd69-b599fc0241b0",
   "metadata": {
    "tags": []
   },
   "outputs": [],
   "source": [
    "#keeps only meaningful variable\n",
    "movies_df=movies[['id','original_title','tags','vote_average','popularity']]"
   ]
  },
  {
   "cell_type": "code",
   "execution_count": 53,
   "id": "d1203284-06f4-4d8e-bf3b-37c42449b6b5",
   "metadata": {
    "tags": []
   },
   "outputs": [
    {
     "data": {
      "text/html": [
       "<div>\n",
       "<style scoped>\n",
       "    .dataframe tbody tr th:only-of-type {\n",
       "        vertical-align: middle;\n",
       "    }\n",
       "\n",
       "    .dataframe tbody tr th {\n",
       "        vertical-align: top;\n",
       "    }\n",
       "\n",
       "    .dataframe thead th {\n",
       "        text-align: right;\n",
       "    }\n",
       "</style>\n",
       "<table border=\"1\" class=\"dataframe\">\n",
       "  <thead>\n",
       "    <tr style=\"text-align: right;\">\n",
       "      <th></th>\n",
       "      <th>id</th>\n",
       "      <th>original_title</th>\n",
       "      <th>tags</th>\n",
       "      <th>vote_average</th>\n",
       "      <th>popularity</th>\n",
       "    </tr>\n",
       "  </thead>\n",
       "  <tbody>\n",
       "    <tr>\n",
       "      <th>0</th>\n",
       "      <td>862.0</td>\n",
       "      <td>Toy Story</td>\n",
       "      <td>[Led, by, Woody,, Andy's, toys, live, happily,...</td>\n",
       "      <td>7.7</td>\n",
       "      <td>21.946943</td>\n",
       "    </tr>\n",
       "    <tr>\n",
       "      <th>1</th>\n",
       "      <td>8844.0</td>\n",
       "      <td>Jumanji</td>\n",
       "      <td>[When, siblings, Judy, and, Peter, discover, a...</td>\n",
       "      <td>6.9</td>\n",
       "      <td>17.015539</td>\n",
       "    </tr>\n",
       "    <tr>\n",
       "      <th>2</th>\n",
       "      <td>15602.0</td>\n",
       "      <td>Grumpier Old Men</td>\n",
       "      <td>[A, family, wedding, reignites, the, ancient, ...</td>\n",
       "      <td>6.5</td>\n",
       "      <td>11.712900</td>\n",
       "    </tr>\n",
       "    <tr>\n",
       "      <th>3</th>\n",
       "      <td>31357.0</td>\n",
       "      <td>Waiting to Exhale</td>\n",
       "      <td>[Cheated, on,, mistreated, and, stepped, on,, ...</td>\n",
       "      <td>6.1</td>\n",
       "      <td>3.859495</td>\n",
       "    </tr>\n",
       "    <tr>\n",
       "      <th>4</th>\n",
       "      <td>11862.0</td>\n",
       "      <td>Father of the Bride Part II</td>\n",
       "      <td>[Just, when, George, Banks, has, recovered, fr...</td>\n",
       "      <td>5.7</td>\n",
       "      <td>8.387519</td>\n",
       "    </tr>\n",
       "  </tbody>\n",
       "</table>\n",
       "</div>"
      ],
      "text/plain": [
       "        id               original_title  \\\n",
       "0    862.0                    Toy Story   \n",
       "1   8844.0                      Jumanji   \n",
       "2  15602.0             Grumpier Old Men   \n",
       "3  31357.0            Waiting to Exhale   \n",
       "4  11862.0  Father of the Bride Part II   \n",
       "\n",
       "                                                tags  vote_average  popularity  \n",
       "0  [Led, by, Woody,, Andy's, toys, live, happily,...           7.7   21.946943  \n",
       "1  [When, siblings, Judy, and, Peter, discover, a...           6.9   17.015539  \n",
       "2  [A, family, wedding, reignites, the, ancient, ...           6.5   11.712900  \n",
       "3  [Cheated, on,, mistreated, and, stepped, on,, ...           6.1    3.859495  \n",
       "4  [Just, when, George, Banks, has, recovered, fr...           5.7    8.387519  "
      ]
     },
     "execution_count": 53,
     "metadata": {},
     "output_type": "execute_result"
    }
   ],
   "source": [
    "movies_df.head()"
   ]
  },
  {
   "cell_type": "markdown",
   "id": "262e943f-0d0c-423e-8d3d-3ffcc0204f60",
   "metadata": {},
   "source": [
    "- Convert tags variable to a string \n",
    "- Lower case tags strings"
   ]
  },
  {
   "cell_type": "code",
   "execution_count": 54,
   "id": "55bcdd99-9cd7-4bc6-a7e6-b553481b7038",
   "metadata": {
    "tags": []
   },
   "outputs": [],
   "source": [
    "#convert tags to a string and lowercase\n",
    "movies_df['tags']=movies_df['tags'].apply(lambda x: \" \".join(x))\n",
    "movies_df['tags']=movies_df['tags'].apply(lambda x: x.lower())"
   ]
  },
  {
   "cell_type": "code",
   "execution_count": 56,
   "id": "0637ca1e-650d-414d-ab45-f46cbad5ee0a",
   "metadata": {
    "tags": []
   },
   "outputs": [
    {
     "name": "stdout",
     "output_type": "stream",
     "text": [
      "led by woody, andy's toys live happily in his room until andy's birthday brings buzz lightyear onto the scene. afraid of losing his place in andy's heart, woody plots against buzz. but when circumstances separate buzz and woody from their owner, the duo eventually learns to put aside their differences. animation comedy family jealousy toy boy friendship friends rivalry boy next door new toy toy comes to life tomhanks timallen donrickles jimvarney wallaceshawn johnratzenberger anniepotts johnmorris erikvondetten lauriemetcalf r.leeermey sarahfreeman pennjillette johnlasseter josswhedon andrewstanton joelcohen alecsokolow bonniearnold edcatmull ralphguggenheim stevejobs leeunkrich ralpheggleston robertgordon maryhelenleasman kimblanchette marilynmccoppen randynewman dalee.grahn robincooper johnlasseter petedocter joeranft patsybouge normdecarlo ashbrannon randynewman romanfigun dondavis jamesflamberg marybethsmith rickmackay susanbradley williamreeves randynewman andrewstanton petedocter garyrydstrom karenrobertjackson chrismontan richquade michaelberenstein colinbrady daveycrockettfeiten angieglocka rexgrignon tomk.gurney jimmyhayward halt.hickel karenkiser anthonyb.lamolinara guionneleroy budluckey lesmajor glennmcqueen markoftedal jeffpidgeon jeffpratt steverabatich rogerrose stevesegal dougsheppeck alansperling dougsweetland davidtart kenwillard thomasporter markthomashenne orenjacob darwynpeachey mitchprater brianm.rosen sharoncalahan galynsusman williamcone shelleydanielslekven bobpauley budluckey andrewstanton williamcone stevejohnson danhaskett tomholloway jeangillmore desiréemourad kellyo'connell sonokokonishi annm.rockwell juliem.mcdonald robinlee tomfreeman adacochavi danamulligan deirdremorrison lorilombardo ellendevine laurenbethstrogoff garyrydstrom garysummers timholland patjackson tommyers j.r.grubbs susansanford susanpopovic danengstrom ruthlambert mickiemcgowan\n"
     ]
    }
   ],
   "source": [
    "#print one example \n",
    "print(movies_df['tags'][0])"
   ]
  },
  {
   "cell_type": "markdown",
   "id": "6f693c37-9d77-4423-9822-059fd8851884",
   "metadata": {},
   "source": [
    "## 2.6 Pre process TEXT & num varaible for word embedding"
   ]
  },
  {
   "cell_type": "code",
   "execution_count": 58,
   "id": "3c576795-982f-4f91-b35a-2c62d495d836",
   "metadata": {
    "tags": []
   },
   "outputs": [],
   "source": [
    "import nltk\n",
    "from nltk.corpus import stopwords\n",
    "import numpy as np\n",
    "from sklearn.preprocessing import StandardScaler\n",
    "from nltk.tokenize import word_tokenize\n",
    "from gensim.models import Word2Vec\n",
    "from nltk.stem import WordNetLemmatizer\n",
    "from sklearn.preprocessing import MinMaxScaler\n",
    "from gensim.models import KeyedVectors\n",
    "from sklearn.metrics.pairwise import cosine_similarity"
   ]
  },
  {
   "cell_type": "code",
   "execution_count": 59,
   "id": "83c05f52-0d6f-4a2d-a79c-4e3ab4455660",
   "metadata": {
    "tags": []
   },
   "outputs": [
    {
     "name": "stderr",
     "output_type": "stream",
     "text": [
      "[nltk_data] Downloading package punkt to\n",
      "[nltk_data]     C:\\Users\\Gatsu\\AppData\\Roaming\\nltk_data...\n",
      "[nltk_data]   Package punkt is already up-to-date!\n"
     ]
    },
    {
     "data": {
      "text/plain": [
       "True"
      ]
     },
     "execution_count": 59,
     "metadata": {},
     "output_type": "execute_result"
    }
   ],
   "source": [
    "# Télécharger le modèle punkt\n",
    "nltk.download('punkt')"
   ]
  },
  {
   "cell_type": "code",
   "execution_count": 60,
   "id": "65899d72-fdb0-4dc0-a6a6-763e6c70d644",
   "metadata": {
    "tags": []
   },
   "outputs": [],
   "source": [
    "# Load pre-trained GloVe model \n",
    "glove_model = KeyedVectors.load_word2vec_format('glove.6B.200d.txt', binary=False,no_header=True)"
   ]
  },
  {
   "cell_type": "code",
   "execution_count": 61,
   "id": "23e19f59-e1e1-46b9-91c4-4c5d3c6925dc",
   "metadata": {
    "tags": []
   },
   "outputs": [],
   "source": [
    "#define stop words\n",
    "stop_words = set(stopwords.words('english'))\n",
    "\n",
    "#define a function to preprocess the text\n",
    "def preprocess_text_glove(text, model, stop_words):\n",
    "    tokens = word_tokenize(text.lower())\n",
    "    lemmatizer = WordNetLemmatizer()\n",
    "    tokens = [lemmatizer.lemmatize(word) for word in tokens]\n",
    "    tokens = [word for word in tokens if word not in stop_words]\n",
    "\n",
    "    # Use the pre-trained GloVe model to obtain word vectors\n",
    "    word_vectors = [model[word] for word in tokens if word in model]\n",
    "\n",
    "    # Aggregate word vectors into a single vector representative of the document\n",
    "    if word_vectors:\n",
    "        doc_vector = np.mean(word_vectors, axis=0)\n",
    "    else:\n",
    "        doc_vector = np.zeros(model.vector_size)\n",
    "    \n",
    "    return doc_vector"
   ]
  },
  {
   "cell_type": "markdown",
   "id": "a1ffc9d5-dda9-4389-8da8-eca3e44c00cf",
   "metadata": {},
   "source": [
    "### 2.7 Apply preprocess to variable \"tags\""
   ]
  },
  {
   "cell_type": "code",
   "execution_count": 63,
   "id": "a7199e8e-fcf1-47e5-8b89-b9c6e750cfd1",
   "metadata": {
    "tags": []
   },
   "outputs": [],
   "source": [
    "# Apply the preprocessing function to your 'tags' column\n",
    "movies_df['glove_vectors'] = movies_df['tags'].apply(lambda x: preprocess_text_glove(x, glove_model, stop_words))\n",
    "\n",
    "# Create an array from the list of vectors\n",
    "glove_vectors_array = np.array(movies_df['glove_vectors'].to_list())"
   ]
  },
  {
   "cell_type": "markdown",
   "id": "1792448c-3418-409d-9947-879464cb1d12",
   "metadata": {},
   "source": [
    "### 2.8 normalize \"vote_average\" and \"popularity\" "
   ]
  },
  {
   "cell_type": "code",
   "execution_count": 64,
   "id": "35a97742-7f9f-4846-9755-80148c5cb2d0",
   "metadata": {
    "tags": []
   },
   "outputs": [],
   "source": [
    "# Normalisation de 'vote_average' et 'popularity'\n",
    "scaler = MinMaxScaler()\n",
    "movies_df[['normalized_vote_average', 'normalized_popularity']] = scaler.fit_transform(movies_df[['vote_average', 'popularity']])"
   ]
  },
  {
   "cell_type": "code",
   "execution_count": 65,
   "id": "2dd88fa4-9e66-45ec-b7c7-e3fd0a5d2111",
   "metadata": {
    "tags": []
   },
   "outputs": [],
   "source": [
    "# Concatenate features\n",
    "features = np.concatenate([glove_vectors_array,\n",
    "                           movies_df['normalized_vote_average'].to_numpy().reshape(-1, 1),\n",
    "                           movies_df['normalized_popularity'].to_numpy().reshape(-1, 1)], axis=1)\n",
    "\n",
    "# Assign the new features to your DataFrame\n",
    "movies_df['combined_features'] = list(features)"
   ]
  },
  {
   "cell_type": "code",
   "execution_count": 69,
   "id": "70fbf962-f034-431c-801e-b2073927f382",
   "metadata": {
    "tags": []
   },
   "outputs": [
    {
     "data": {
      "text/plain": [
       "(202,)"
      ]
     },
     "execution_count": 69,
     "metadata": {},
     "output_type": "execute_result"
    }
   ],
   "source": [
    "#overview of the combined features\n",
    "movies_df['combined_features'][0].shape"
   ]
  },
  {
   "cell_type": "markdown",
   "id": "5e164a7a-2298-401c-a5ce-fd91cdb0645f",
   "metadata": {},
   "source": [
    "### 2.9 For each rows, we have an array representing the variables we embedded (202 total)\n",
    "- 200 from our pre-trained glove model we applied into our \"tags\" variable\n",
    "- 2 from normalized popularity / vote_average"
   ]
  },
  {
   "cell_type": "markdown",
   "id": "9d9a8036-37f4-4596-b5f5-9dcbb6f44fa9",
   "metadata": {},
   "source": [
    "# 3. Modelisation & Recommandation"
   ]
  },
  {
   "cell_type": "code",
   "execution_count": 79,
   "id": "8afae7d8-9b8a-476c-9a97-62de4acb6487",
   "metadata": {
    "tags": []
   },
   "outputs": [],
   "source": [
    "# transforming our array into list so we have 202 columns representing each vectors dimensions\n",
    "feature_matrix = np.array(movies_df['combined_features'].to_list())"
   ]
  },
  {
   "cell_type": "code",
   "execution_count": 73,
   "id": "37a04d28-9af8-46fd-ae7f-4d9a4b15f55a",
   "metadata": {
    "tags": []
   },
   "outputs": [
    {
     "data": {
      "text/plain": [
       "(46628, 202)"
      ]
     },
     "execution_count": 73,
     "metadata": {},
     "output_type": "execute_result"
    }
   ],
   "source": [
    "#check shape\n",
    "feature_matrix.shape"
   ]
  },
  {
   "cell_type": "code",
   "execution_count": 74,
   "id": "dae0ff78-cfd5-4e69-a444-de99d6f31aea",
   "metadata": {
    "tags": []
   },
   "outputs": [],
   "source": [
    "# Calculate cosine similarity\n",
    "cosine_sim_matrix = cosine_similarity(feature_matrix, feature_matrix)"
   ]
  },
  {
   "cell_type": "code",
   "execution_count": 75,
   "id": "4916450e-b825-49e7-b0fd-b071a0b769b5",
   "metadata": {
    "tags": []
   },
   "outputs": [
    {
     "data": {
      "text/html": [
       "<div>\n",
       "<style scoped>\n",
       "    .dataframe tbody tr th:only-of-type {\n",
       "        vertical-align: middle;\n",
       "    }\n",
       "\n",
       "    .dataframe tbody tr th {\n",
       "        vertical-align: top;\n",
       "    }\n",
       "\n",
       "    .dataframe thead th {\n",
       "        text-align: right;\n",
       "    }\n",
       "</style>\n",
       "<table border=\"1\" class=\"dataframe\">\n",
       "  <thead>\n",
       "    <tr style=\"text-align: right;\">\n",
       "      <th>original_title</th>\n",
       "      <th>Toy Story</th>\n",
       "      <th>Jumanji</th>\n",
       "      <th>Grumpier Old Men</th>\n",
       "      <th>Waiting to Exhale</th>\n",
       "      <th>Father of the Bride Part II</th>\n",
       "      <th>Heat</th>\n",
       "      <th>Sabrina</th>\n",
       "      <th>Tom and Huck</th>\n",
       "      <th>Sudden Death</th>\n",
       "      <th>GoldenEye</th>\n",
       "      <th>...</th>\n",
       "      <th>House of Horrors</th>\n",
       "      <th>Shadow of the Blair Witch</th>\n",
       "      <th>The Burkittsville 7</th>\n",
       "      <th>Caged Heat 3000</th>\n",
       "      <th>Robin Hood</th>\n",
       "      <th>رگ خواب</th>\n",
       "      <th>Siglo ng Pagluluwal</th>\n",
       "      <th>Betrayal</th>\n",
       "      <th>Satana likuyushchiy</th>\n",
       "      <th>Queerama</th>\n",
       "    </tr>\n",
       "    <tr>\n",
       "      <th>original_title</th>\n",
       "      <th></th>\n",
       "      <th></th>\n",
       "      <th></th>\n",
       "      <th></th>\n",
       "      <th></th>\n",
       "      <th></th>\n",
       "      <th></th>\n",
       "      <th></th>\n",
       "      <th></th>\n",
       "      <th></th>\n",
       "      <th></th>\n",
       "      <th></th>\n",
       "      <th></th>\n",
       "      <th></th>\n",
       "      <th></th>\n",
       "      <th></th>\n",
       "      <th></th>\n",
       "      <th></th>\n",
       "      <th></th>\n",
       "      <th></th>\n",
       "      <th></th>\n",
       "    </tr>\n",
       "  </thead>\n",
       "  <tbody>\n",
       "    <tr>\n",
       "      <th>Toy Story</th>\n",
       "      <td>1.000000</td>\n",
       "      <td>0.923083</td>\n",
       "      <td>0.886122</td>\n",
       "      <td>0.912423</td>\n",
       "      <td>0.873167</td>\n",
       "      <td>0.861423</td>\n",
       "      <td>0.901540</td>\n",
       "      <td>0.888564</td>\n",
       "      <td>0.849342</td>\n",
       "      <td>0.778674</td>\n",
       "      <td>...</td>\n",
       "      <td>0.821365</td>\n",
       "      <td>0.786937</td>\n",
       "      <td>0.740219</td>\n",
       "      <td>0.877510</td>\n",
       "      <td>0.883098</td>\n",
       "      <td>0.836364</td>\n",
       "      <td>0.809034</td>\n",
       "      <td>0.839717</td>\n",
       "      <td>0.839655</td>\n",
       "      <td>0.791333</td>\n",
       "    </tr>\n",
       "    <tr>\n",
       "      <th>Jumanji</th>\n",
       "      <td>0.923083</td>\n",
       "      <td>1.000000</td>\n",
       "      <td>0.878533</td>\n",
       "      <td>0.911313</td>\n",
       "      <td>0.887825</td>\n",
       "      <td>0.878725</td>\n",
       "      <td>0.895178</td>\n",
       "      <td>0.885476</td>\n",
       "      <td>0.886240</td>\n",
       "      <td>0.832921</td>\n",
       "      <td>...</td>\n",
       "      <td>0.841007</td>\n",
       "      <td>0.812925</td>\n",
       "      <td>0.759373</td>\n",
       "      <td>0.926475</td>\n",
       "      <td>0.898981</td>\n",
       "      <td>0.842106</td>\n",
       "      <td>0.798462</td>\n",
       "      <td>0.872163</td>\n",
       "      <td>0.870263</td>\n",
       "      <td>0.829500</td>\n",
       "    </tr>\n",
       "    <tr>\n",
       "      <th>Grumpier Old Men</th>\n",
       "      <td>0.886122</td>\n",
       "      <td>0.878533</td>\n",
       "      <td>1.000000</td>\n",
       "      <td>0.889636</td>\n",
       "      <td>0.864275</td>\n",
       "      <td>0.829203</td>\n",
       "      <td>0.896649</td>\n",
       "      <td>0.878009</td>\n",
       "      <td>0.792382</td>\n",
       "      <td>0.763083</td>\n",
       "      <td>...</td>\n",
       "      <td>0.806830</td>\n",
       "      <td>0.777194</td>\n",
       "      <td>0.718666</td>\n",
       "      <td>0.856675</td>\n",
       "      <td>0.855747</td>\n",
       "      <td>0.824587</td>\n",
       "      <td>0.757733</td>\n",
       "      <td>0.810579</td>\n",
       "      <td>0.851331</td>\n",
       "      <td>0.790835</td>\n",
       "    </tr>\n",
       "    <tr>\n",
       "      <th>Waiting to Exhale</th>\n",
       "      <td>0.912423</td>\n",
       "      <td>0.911313</td>\n",
       "      <td>0.889636</td>\n",
       "      <td>1.000000</td>\n",
       "      <td>0.907115</td>\n",
       "      <td>0.894991</td>\n",
       "      <td>0.929792</td>\n",
       "      <td>0.910245</td>\n",
       "      <td>0.863718</td>\n",
       "      <td>0.796674</td>\n",
       "      <td>...</td>\n",
       "      <td>0.864713</td>\n",
       "      <td>0.825067</td>\n",
       "      <td>0.782441</td>\n",
       "      <td>0.899976</td>\n",
       "      <td>0.905689</td>\n",
       "      <td>0.885069</td>\n",
       "      <td>0.812264</td>\n",
       "      <td>0.865948</td>\n",
       "      <td>0.898755</td>\n",
       "      <td>0.843843</td>\n",
       "    </tr>\n",
       "    <tr>\n",
       "      <th>Father of the Bride Part II</th>\n",
       "      <td>0.873167</td>\n",
       "      <td>0.887825</td>\n",
       "      <td>0.864275</td>\n",
       "      <td>0.907115</td>\n",
       "      <td>1.000000</td>\n",
       "      <td>0.817336</td>\n",
       "      <td>0.901457</td>\n",
       "      <td>0.862174</td>\n",
       "      <td>0.843398</td>\n",
       "      <td>0.780872</td>\n",
       "      <td>...</td>\n",
       "      <td>0.791262</td>\n",
       "      <td>0.776989</td>\n",
       "      <td>0.705675</td>\n",
       "      <td>0.877692</td>\n",
       "      <td>0.842476</td>\n",
       "      <td>0.842743</td>\n",
       "      <td>0.736494</td>\n",
       "      <td>0.820300</td>\n",
       "      <td>0.901388</td>\n",
       "      <td>0.845839</td>\n",
       "    </tr>\n",
       "  </tbody>\n",
       "</table>\n",
       "<p>5 rows × 46628 columns</p>\n",
       "</div>"
      ],
      "text/plain": [
       "original_title               Toy Story   Jumanji  Grumpier Old Men  \\\n",
       "original_title                                                       \n",
       "Toy Story                     1.000000  0.923083          0.886122   \n",
       "Jumanji                       0.923083  1.000000          0.878533   \n",
       "Grumpier Old Men              0.886122  0.878533          1.000000   \n",
       "Waiting to Exhale             0.912423  0.911313          0.889636   \n",
       "Father of the Bride Part II   0.873167  0.887825          0.864275   \n",
       "\n",
       "original_title               Waiting to Exhale  Father of the Bride Part II  \\\n",
       "original_title                                                                \n",
       "Toy Story                             0.912423                     0.873167   \n",
       "Jumanji                               0.911313                     0.887825   \n",
       "Grumpier Old Men                      0.889636                     0.864275   \n",
       "Waiting to Exhale                     1.000000                     0.907115   \n",
       "Father of the Bride Part II           0.907115                     1.000000   \n",
       "\n",
       "original_title                   Heat   Sabrina  Tom and Huck  Sudden Death  \\\n",
       "original_title                                                                \n",
       "Toy Story                    0.861423  0.901540      0.888564      0.849342   \n",
       "Jumanji                      0.878725  0.895178      0.885476      0.886240   \n",
       "Grumpier Old Men             0.829203  0.896649      0.878009      0.792382   \n",
       "Waiting to Exhale            0.894991  0.929792      0.910245      0.863718   \n",
       "Father of the Bride Part II  0.817336  0.901457      0.862174      0.843398   \n",
       "\n",
       "original_title               GoldenEye  ...  House of Horrors  \\\n",
       "original_title                          ...                     \n",
       "Toy Story                     0.778674  ...          0.821365   \n",
       "Jumanji                       0.832921  ...          0.841007   \n",
       "Grumpier Old Men              0.763083  ...          0.806830   \n",
       "Waiting to Exhale             0.796674  ...          0.864713   \n",
       "Father of the Bride Part II   0.780872  ...          0.791262   \n",
       "\n",
       "original_title               Shadow of the Blair Witch  The Burkittsville 7  \\\n",
       "original_title                                                                \n",
       "Toy Story                                     0.786937             0.740219   \n",
       "Jumanji                                       0.812925             0.759373   \n",
       "Grumpier Old Men                              0.777194             0.718666   \n",
       "Waiting to Exhale                             0.825067             0.782441   \n",
       "Father of the Bride Part II                   0.776989             0.705675   \n",
       "\n",
       "original_title               Caged Heat 3000  Robin Hood   رگ خواب  \\\n",
       "original_title                                                       \n",
       "Toy Story                           0.877510    0.883098  0.836364   \n",
       "Jumanji                             0.926475    0.898981  0.842106   \n",
       "Grumpier Old Men                    0.856675    0.855747  0.824587   \n",
       "Waiting to Exhale                   0.899976    0.905689  0.885069   \n",
       "Father of the Bride Part II         0.877692    0.842476  0.842743   \n",
       "\n",
       "original_title               Siglo ng Pagluluwal  Betrayal  \\\n",
       "original_title                                               \n",
       "Toy Story                               0.809034  0.839717   \n",
       "Jumanji                                 0.798462  0.872163   \n",
       "Grumpier Old Men                        0.757733  0.810579   \n",
       "Waiting to Exhale                       0.812264  0.865948   \n",
       "Father of the Bride Part II             0.736494  0.820300   \n",
       "\n",
       "original_title               Satana likuyushchiy  Queerama  \n",
       "original_title                                              \n",
       "Toy Story                               0.839655  0.791333  \n",
       "Jumanji                                 0.870263  0.829500  \n",
       "Grumpier Old Men                        0.851331  0.790835  \n",
       "Waiting to Exhale                       0.898755  0.843843  \n",
       "Father of the Bride Part II             0.901388  0.845839  \n",
       "\n",
       "[5 rows x 46628 columns]"
      ]
     },
     "execution_count": 75,
     "metadata": {},
     "output_type": "execute_result"
    }
   ],
   "source": [
    "# Convert the cosine similarity matrix to a DataFrame for better readability (it's optional)\n",
    "cosine_sim_df = pd.DataFrame(cosine_sim_matrix, index=movies_df['original_title'], columns=movies_df['original_title'])\n",
    "cosine_sim_df.head()"
   ]
  },
  {
   "cell_type": "code",
   "execution_count": 80,
   "id": "7fb2b7ff-4667-4ea6-bfd1-c3415b91a0e0",
   "metadata": {
    "tags": []
   },
   "outputs": [],
   "source": [
    "#define a function to recommend a movie based on cosine similarity score\n",
    "\n",
    "def recommend_top_movies(movie_title, top_n):\n",
    "    # Get the index of the movie in the DataFrame\n",
    "    movie_index = movies_df.index[movies_df['original_title'] == movie_title].tolist()[0]\n",
    "\n",
    "    # Get the cosine similarity scores for the specified movie\n",
    "    cosine_sim_scores = cosine_sim_matrix[movie_index]\n",
    "\n",
    "    # Get the indices of the top-n most similar movies (excluding the movie itself)\n",
    "    similar_movie_indices = cosine_sim_scores.argsort()[:-top_n-3:-1]\n",
    "\n",
    "    # Get the movie titles corresponding to the indices (excluding the movie itself)\n",
    "    similar_movie_titles = movies_df['original_title'].iloc[similar_movie_indices].tolist()\n",
    "\n",
    "    # Remove the input movie from the recommendations (if it's in the list)\n",
    "    similar_movie_titles = [title for title in similar_movie_titles if title != movie_title]\n",
    "\n",
    "    return similar_movie_titles[:top_n]"
   ]
  },
  {
   "cell_type": "code",
   "execution_count": 86,
   "id": "09aa2a9c-f6b9-40fa-9110-7102b466323b",
   "metadata": {
    "tags": []
   },
   "outputs": [
    {
     "data": {
      "text/plain": [
       "['Spider-Man 3',\n",
       " 'Doctor Strange',\n",
       " 'Spider-Man 2',\n",
       " 'X-Men: The Last Stand',\n",
       " 'Superman/Batman: Apocalypse',\n",
       " 'Batman Returns',\n",
       " 'Look, Up in the Sky: The Amazing Story of Superman',\n",
       " 'The Amazing Spider-Man',\n",
       " 'Iron Man',\n",
       " 'Guardians of the Galaxy Vol. 2']"
      ]
     },
     "execution_count": 86,
     "metadata": {},
     "output_type": "execute_result"
    }
   ],
   "source": [
    "# Example: Get top 10 movie recommendations for a movie titled 'Spider-Man 2'\n",
    "recommend_top_movies('Spider-Man', top_n=10)"
   ]
  },
  {
   "cell_type": "markdown",
   "id": "c7f54a22-b80c-428e-affe-76a480745eef",
   "metadata": {},
   "source": [
    "# 4. SAVE models for flask app"
   ]
  },
  {
   "cell_type": "code",
   "execution_count": 89,
   "id": "6421309a-1868-4d54-899e-de80a0a106b5",
   "metadata": {
    "tags": []
   },
   "outputs": [
    {
     "data": {
      "text/plain": [
       "['movie_cosine_similarity_model.pkl']"
      ]
     },
     "execution_count": 89,
     "metadata": {},
     "output_type": "execute_result"
    }
   ],
   "source": [
    "import joblib\n",
    "\n",
    "# Save the model\n",
    "joblib.dump(cosine_sim_matrix, 'movie_cosine_similarity_model.pkl')"
   ]
  }
 ],
 "metadata": {
  "kernelspec": {
   "display_name": "Python 3 (ipykernel)",
   "language": "python",
   "name": "python3"
  },
  "language_info": {
   "codemirror_mode": {
    "name": "ipython",
    "version": 3
   },
   "file_extension": ".py",
   "mimetype": "text/x-python",
   "name": "python",
   "nbconvert_exporter": "python",
   "pygments_lexer": "ipython3",
   "version": "3.11.5"
  }
 },
 "nbformat": 4,
 "nbformat_minor": 5
}
